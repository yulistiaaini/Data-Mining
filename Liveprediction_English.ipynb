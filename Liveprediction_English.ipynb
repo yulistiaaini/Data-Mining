{
  "nbformat": 4,
  "nbformat_minor": 0,
  "metadata": {
    "colab": {
      "name": "Liveprediction English.ipynb",
      "provenance": []
    },
    "kernelspec": {
      "name": "python3",
      "display_name": "Python 3"
    },
    "language_info": {
      "name": "python"
    }
  },
  "cells": [
    {
      "cell_type": "code",
      "metadata": {
        "id": "zQGdExBWGubP"
      },
      "source": [
        "import keras\n",
        "import librosa\n",
        "import numpy as np"
      ],
      "execution_count": null,
      "outputs": []
    },
    {
      "cell_type": "code",
      "metadata": {
        "colab": {
          "base_uri": "https://localhost:8080/"
        },
        "id": "TMsDOvGrRSZs",
        "outputId": "0810e67c-2ad0-48f9-843c-29ba4f0c32e5"
      },
      "source": [
        "from google.colab import drive\n",
        "drive.mount('/content/drive')\n",
        "MODEL_DIR_PATH = '/content/drive/My Drive/Colab Notebooks/Modelfeature/'\n",
        "EXAMPLES_PATH =  '/content/drive/My Drive/Colab Notebooks/EmosiPlot/'\n",
        "\n",
        "class LivePredictions:\n",
        "    \"\"\"\n",
        "    Main class of the application.\n",
        "    \"\"\"\n",
        "\n",
        "    def __init__(self, file):\n",
        "        \"\"\"\n",
        "        Init method is used to initialize the main parameters.\n",
        "        \"\"\"\n",
        "        self.file = file\n",
        "        self.path = MODEL_DIR_PATH + 'Emotion_Voice_Detection_ModelMFCC.h5'\n",
        "        self.loaded_model = keras.models.load_model(self.path)\n",
        "\n",
        "    def make_predictions(self):\n",
        "        \"\"\"\n",
        "        Method to process the files and create your features.\n",
        "        \"\"\"\n",
        "        data, sampling_rate = librosa.load(self.file)\n",
        "        mfccs = np.mean(librosa.feature.mfcc(y=data, sr=sampling_rate, n_mfcc=40).T, axis=0)\n",
        "        x = np.expand_dims(mfccs, axis=1)\n",
        "        x = np.expand_dims(x, axis=0)\n",
        "        predictions = self.loaded_model.predict_classes(x)\n",
        "        print( \"Prediction is\", \" \", self.convert_class_to_emotion(predictions))\n",
        "\n",
        "    @staticmethod\n",
        "    def convert_class_to_emotion(pred):\n",
        "        \"\"\"\n",
        "        Method to convert the predictions (int) into human readable strings.\n",
        "        \"\"\"\n",
        "        \n",
        "        label_conversion = {'0': 'Neutral',\n",
        "                            '1': 'Calm',\n",
        "                            '2': 'Happy',\n",
        "                            '3': 'Sad',\n",
        "                            '4': 'Angry',\n",
        "                            '5': 'Fear',\n",
        "                            '6': 'Disgust',\n",
        "                            '7': 'Surprise'}\n",
        "\n",
        "        for key, value in label_conversion.items():\n",
        "            if int(key) == pred:\n",
        "                label = value\n",
        "        return label"
      ],
      "execution_count": null,
      "outputs": [
        {
          "output_type": "stream",
          "text": [
            "Mounted at /content/drive\n"
          ],
          "name": "stdout"
        }
      ]
    },
    {
      "cell_type": "code",
      "metadata": {
        "colab": {
          "base_uri": "https://localhost:8080/"
        },
        "id": "8LYfQHS-SFs9",
        "outputId": "488dc961-7d40-4e38-fb56-5bc75484bf8e"
      },
      "source": [
        "if __name__ == '__main__':\n",
        "    live_prediction = LivePredictions(file=EXAMPLES_PATH + '03-01-01-01-01-01-01.wav')\n",
        "    live_prediction.make_predictions()\n",
        "    live_prediction = LivePredictions(file=EXAMPLES_PATH + '03-01-02-01-02-01-01.wav')\n",
        "    live_prediction.make_predictions()\n",
        "    live_prediction = LivePredictions(file=EXAMPLES_PATH + '03-01-03-02-02-01-02.wav')\n",
        "    live_prediction.make_predictions()\n",
        "    live_prediction = LivePredictions(file=EXAMPLES_PATH + '03-01-04-01-02-02-01.wav')\n",
        "    live_prediction.make_predictions()\n",
        "    live_prediction = LivePredictions(file=EXAMPLES_PATH + '03-01-05-01-02-02-02.wav')\n",
        "    live_prediction.make_predictions()\n",
        "    live_prediction = LivePredictions(file=EXAMPLES_PATH + '03-01-06-02-01-02-02.wav')\n",
        "    live_prediction.make_predictions()\n",
        "    live_prediction = LivePredictions(file=EXAMPLES_PATH + '03-01-07-02-01-01-02.wav')\n",
        "    live_prediction.make_predictions()\n",
        "    live_prediction = LivePredictions(file=EXAMPLES_PATH + '03-01-08-02-02-01-02.wav')\n",
        "    live_prediction.make_predictions()\n",
        "    "
      ],
      "execution_count": null,
      "outputs": [
        {
          "output_type": "stream",
          "text": [
            "/usr/local/lib/python3.7/dist-packages/keras/engine/sequential.py:450: UserWarning: `model.predict_classes()` is deprecated and will be removed after 2021-01-01. Please use instead:* `np.argmax(model.predict(x), axis=-1)`,   if your model does multi-class classification   (e.g. if it uses a `softmax` last-layer activation).* `(model.predict(x) > 0.5).astype(\"int32\")`,   if your model does binary classification   (e.g. if it uses a `sigmoid` last-layer activation).\n",
            "  warnings.warn('`model.predict_classes()` is deprecated and '\n"
          ],
          "name": "stderr"
        },
        {
          "output_type": "stream",
          "text": [
            "Prediction is   Neutral\n",
            "Prediction is   Calm\n",
            "Prediction is   Happy\n",
            "Prediction is   Sad\n",
            "Prediction is   Angry\n",
            "Prediction is   Fear\n",
            "Prediction is   Disgust\n",
            "Prediction is   Surprise\n"
          ],
          "name": "stdout"
        }
      ]
    },
    {
      "cell_type": "markdown",
      "metadata": {
        "id": "1KzSwEqBYZX8"
      },
      "source": [
        "Label Bahasa Indonesia:\n",
        "\n",
        "\n",
        "1.   Neutral\n",
        "2.   Calm\n",
        "3.   Happy\n",
        "4.   Sad\n",
        "5.   Angry\n",
        "6.   Fear\n",
        "7.   Disgust\n",
        "8.   Surprise\n",
        "\n",
        "\n"
      ]
    }
  ]
}