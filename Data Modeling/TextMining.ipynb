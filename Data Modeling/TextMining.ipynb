{
  "nbformat": 4,
  "nbformat_minor": 0,
  "metadata": {
    "colab": {
      "name": "TextMining.ipynb",
      "provenance": []
    },
    "kernelspec": {
      "name": "python3",
      "display_name": "Python 3"
    },
    "language_info": {
      "name": "python"
    }
  },
  "cells": [
    {
      "cell_type": "code",
      "metadata": {
        "id": "t_1aWIum0V5m"
      },
      "source": [
        "import nltk\n",
        "from nltk.tokenize import word_tokenize\n",
        "from nltk.probability import FreqDist\n",
        "from Sastrawi.Stemmer.StemmerFactory import StemmerFactory\n",
        "import re\n",
        "import string\n",
        "import matplotlib.pyplot as plt\n",
        "from nltk.corpus import stopwords\n",
        "from Sastrawi.StopWordRemover.StopWordRemoverFactory import StopWordRemoverFactory\n"
      ],
      "execution_count": 3,
      "outputs": []
    },
    {
      "cell_type": "code",
      "metadata": {
        "colab": {
          "base_uri": "https://localhost:8080/"
        },
        "id": "VJhIlF8A0dLf",
        "outputId": "5f547127-9e86-4713-c732-c2a64e3f8868"
      },
      "source": [
        "pip install Sastrawi"
      ],
      "execution_count": 2,
      "outputs": [
        {
          "output_type": "stream",
          "text": [
            "Collecting Sastrawi\n",
            "\u001b[?25l  Downloading https://files.pythonhosted.org/packages/6f/4b/bab676953da3103003730b8fcdfadbdd20f333d4add10af949dd5c51e6ed/Sastrawi-1.0.1-py2.py3-none-any.whl (209kB)\n",
            "\r\u001b[K     |█▋                              | 10kB 14.1MB/s eta 0:00:01\r\u001b[K     |███▏                            | 20kB 9.1MB/s eta 0:00:01\r\u001b[K     |████▊                           | 30kB 7.8MB/s eta 0:00:01\r\u001b[K     |██████▎                         | 40kB 7.1MB/s eta 0:00:01\r\u001b[K     |███████▉                        | 51kB 4.2MB/s eta 0:00:01\r\u001b[K     |█████████▍                      | 61kB 4.4MB/s eta 0:00:01\r\u001b[K     |███████████                     | 71kB 4.8MB/s eta 0:00:01\r\u001b[K     |████████████▌                   | 81kB 5.0MB/s eta 0:00:01\r\u001b[K     |██████████████                  | 92kB 5.1MB/s eta 0:00:01\r\u001b[K     |███████████████▋                | 102kB 4.1MB/s eta 0:00:01\r\u001b[K     |█████████████████▏              | 112kB 4.1MB/s eta 0:00:01\r\u001b[K     |██████████████████▊             | 122kB 4.1MB/s eta 0:00:01\r\u001b[K     |████████████████████▎           | 133kB 4.1MB/s eta 0:00:01\r\u001b[K     |█████████████████████▉          | 143kB 4.1MB/s eta 0:00:01\r\u001b[K     |███████████████████████▍        | 153kB 4.1MB/s eta 0:00:01\r\u001b[K     |█████████████████████████       | 163kB 4.1MB/s eta 0:00:01\r\u001b[K     |██████████████████████████▋     | 174kB 4.1MB/s eta 0:00:01\r\u001b[K     |████████████████████████████▏   | 184kB 4.1MB/s eta 0:00:01\r\u001b[K     |█████████████████████████████▊  | 194kB 4.1MB/s eta 0:00:01\r\u001b[K     |███████████████████████████████▎| 204kB 4.1MB/s eta 0:00:01\r\u001b[K     |████████████████████████████████| 215kB 4.1MB/s \n",
            "\u001b[?25hInstalling collected packages: Sastrawi\n",
            "Successfully installed Sastrawi-1.0.1\n"
          ],
          "name": "stdout"
        }
      ]
    },
    {
      "cell_type": "code",
      "metadata": {
        "colab": {
          "base_uri": "https://localhost:8080/"
        },
        "id": "BP34Ylqj0me0",
        "outputId": "d47ce7e1-5044-464f-f7d6-271036c4b144"
      },
      "source": [
        "#Print Text\n",
        "f = open(\"news.txt\", \"r\")\n",
        "text=f.read()\n",
        "print(\"\\nText:\\n----------------\\n\",text)"
      ],
      "execution_count": 4,
      "outputs": [
        {
          "output_type": "stream",
          "text": [
            "\n",
            "Text:\n",
            "----------------\n",
            " Sejak sebulan terakhir harga bawang putih dan bombay yang sempat\n",
            "melonjak tinggi akhirnya kembali turun dan stabil di rata-rata Rp. 20.000 per \n",
            "kg. Namun, berkah harga murah yang dinikmati masyarakat kembali terusik\n",
            "dengan mulai naiknya harga bawang putih di pasar. Pemerhati Pertanian, \n",
            "Syaiful Bahari, menjelaskan masalah kenaikan harga komoditi yang terkait\n",
            "dengan impor seperti bawang putih, bombay dan gula, selama ini lebih \n",
            "banyak disebabkan oleh kebijakan restriksi atau pembatasan yang\n",
            "diberlakukan oleh pemerintah sendiri. Untuk kasus bawang putih dan \n",
            "bombay, lanjut Syaiful, ketika relaksasi diberlakukan terbukti harga turun\n",
            "drastis. Bombay dari Rp 150.000 per kilo gram menjadi Rp 17.000 sampai Rp. \n",
            "20.000 per kilo gram. Sehingga kedua komoditi ini menyumbang deflasi.\n"
          ],
          "name": "stdout"
        }
      ]
    },
    {
      "cell_type": "code",
      "metadata": {
        "colab": {
          "base_uri": "https://localhost:8080/"
        },
        "id": "5bL__62u0qEg",
        "outputId": "d0b89c3b-0e0b-4a6c-89c6-dd4e4fafbaf0"
      },
      "source": [
        "#Preprocessing\n",
        "text = text.lower()\n",
        "print(\"\\nHuruf kecil semua:\\n----------------\\n\",text)\n",
        "text = re.sub(r\"\\d+\", \"\", text)\n",
        "print(\"\\nAngka hilang:\\n----------------\\n\",text)\n",
        "text = text.translate(str.maketrans(\"\",\"\",string.punctuation))\n",
        "print(\"\\nTanda Baca hilang:\\n----------------\\n\",text)\n",
        "text = text.strip()\n",
        "print(\"\\nKarakter Kosong hilang:\\n----------------\\n\",text)"
      ],
      "execution_count": 5,
      "outputs": [
        {
          "output_type": "stream",
          "text": [
            "\n",
            "Huruf kecil semua:\n",
            "----------------\n",
            " sejak sebulan terakhir harga bawang putih dan bombay yang sempat\n",
            "melonjak tinggi akhirnya kembali turun dan stabil di rata-rata rp. 20.000 per \n",
            "kg. namun, berkah harga murah yang dinikmati masyarakat kembali terusik\n",
            "dengan mulai naiknya harga bawang putih di pasar. pemerhati pertanian, \n",
            "syaiful bahari, menjelaskan masalah kenaikan harga komoditi yang terkait\n",
            "dengan impor seperti bawang putih, bombay dan gula, selama ini lebih \n",
            "banyak disebabkan oleh kebijakan restriksi atau pembatasan yang\n",
            "diberlakukan oleh pemerintah sendiri. untuk kasus bawang putih dan \n",
            "bombay, lanjut syaiful, ketika relaksasi diberlakukan terbukti harga turun\n",
            "drastis. bombay dari rp 150.000 per kilo gram menjadi rp 17.000 sampai rp. \n",
            "20.000 per kilo gram. sehingga kedua komoditi ini menyumbang deflasi.\n",
            "\n",
            "Angka hilang:\n",
            "----------------\n",
            " sejak sebulan terakhir harga bawang putih dan bombay yang sempat\n",
            "melonjak tinggi akhirnya kembali turun dan stabil di rata-rata rp. . per \n",
            "kg. namun, berkah harga murah yang dinikmati masyarakat kembali terusik\n",
            "dengan mulai naiknya harga bawang putih di pasar. pemerhati pertanian, \n",
            "syaiful bahari, menjelaskan masalah kenaikan harga komoditi yang terkait\n",
            "dengan impor seperti bawang putih, bombay dan gula, selama ini lebih \n",
            "banyak disebabkan oleh kebijakan restriksi atau pembatasan yang\n",
            "diberlakukan oleh pemerintah sendiri. untuk kasus bawang putih dan \n",
            "bombay, lanjut syaiful, ketika relaksasi diberlakukan terbukti harga turun\n",
            "drastis. bombay dari rp . per kilo gram menjadi rp . sampai rp. \n",
            ". per kilo gram. sehingga kedua komoditi ini menyumbang deflasi.\n",
            "\n",
            "Tanda Baca hilang:\n",
            "----------------\n",
            " sejak sebulan terakhir harga bawang putih dan bombay yang sempat\n",
            "melonjak tinggi akhirnya kembali turun dan stabil di ratarata rp  per \n",
            "kg namun berkah harga murah yang dinikmati masyarakat kembali terusik\n",
            "dengan mulai naiknya harga bawang putih di pasar pemerhati pertanian \n",
            "syaiful bahari menjelaskan masalah kenaikan harga komoditi yang terkait\n",
            "dengan impor seperti bawang putih bombay dan gula selama ini lebih \n",
            "banyak disebabkan oleh kebijakan restriksi atau pembatasan yang\n",
            "diberlakukan oleh pemerintah sendiri untuk kasus bawang putih dan \n",
            "bombay lanjut syaiful ketika relaksasi diberlakukan terbukti harga turun\n",
            "drastis bombay dari rp  per kilo gram menjadi rp  sampai rp \n",
            " per kilo gram sehingga kedua komoditi ini menyumbang deflasi\n",
            "\n",
            "Karakter Kosong hilang:\n",
            "----------------\n",
            " sejak sebulan terakhir harga bawang putih dan bombay yang sempat\n",
            "melonjak tinggi akhirnya kembali turun dan stabil di ratarata rp  per \n",
            "kg namun berkah harga murah yang dinikmati masyarakat kembali terusik\n",
            "dengan mulai naiknya harga bawang putih di pasar pemerhati pertanian \n",
            "syaiful bahari menjelaskan masalah kenaikan harga komoditi yang terkait\n",
            "dengan impor seperti bawang putih bombay dan gula selama ini lebih \n",
            "banyak disebabkan oleh kebijakan restriksi atau pembatasan yang\n",
            "diberlakukan oleh pemerintah sendiri untuk kasus bawang putih dan \n",
            "bombay lanjut syaiful ketika relaksasi diberlakukan terbukti harga turun\n",
            "drastis bombay dari rp  per kilo gram menjadi rp  sampai rp \n",
            " per kilo gram sehingga kedua komoditi ini menyumbang deflasi\n"
          ],
          "name": "stdout"
        }
      ]
    },
    {
      "cell_type": "code",
      "metadata": {
        "colab": {
          "base_uri": "https://localhost:8080/"
        },
        "id": "3Bb021hH0sr-",
        "outputId": "cf7e5679-9208-4dae-a810-7b2eec745918"
      },
      "source": [
        "# Filtering dengan Sastrawi -------------------\n",
        "factory = StopWordRemoverFactory()\n",
        "stopword = factory.create_stop_word_remover()\n",
        "text = stopword.remove(text)\n",
        "print(\"\\nSetelah filtering:\\n----------------\\n\", text)"
      ],
      "execution_count": 6,
      "outputs": [
        {
          "output_type": "stream",
          "text": [
            "\n",
            "Setelah filtering:\n",
            "----------------\n",
            " sejak sebulan terakhir harga bawang putih bombay sempat\n",
            "melonjak tinggi akhirnya turun stabil ratarata rp  per \n",
            "kg berkah harga murah dinikmati masyarakat terusik\n",
            "dengan mulai naiknya harga bawang putih pasar pemerhati pertanian \n",
            "syaiful bahari menjelaskan masalah kenaikan harga komoditi terkait\n",
            "dengan impor bawang putih bombay gula selama lebih \n",
            "banyak disebabkan kebijakan restriksi pembatasan yang\n",
            "diberlakukan pemerintah sendiri kasus bawang putih \n",
            "bombay lanjut syaiful relaksasi diberlakukan terbukti harga turun\n",
            "drastis bombay rp  per kilo gram menjadi rp  rp \n",
            " per kilo gram kedua komoditi menyumbang deflasi\n"
          ],
          "name": "stdout"
        }
      ]
    },
    {
      "cell_type": "code",
      "metadata": {
        "colab": {
          "base_uri": "https://localhost:8080/"
        },
        "id": "ZU-vA4Z-0u52",
        "outputId": "e7ff3634-dfcb-4f54-e8d9-e83f68e10cfb"
      },
      "source": [
        "# Stemming dengan Sastrawi ----------------\n",
        "factory=StemmerFactory()\n",
        "stemmer = factory.create_stemmer()\n",
        "text   = stemmer.stem(text)\n",
        "print(\"\\nOutput stemming:\\n----------------\\n\", text)"
      ],
      "execution_count": 7,
      "outputs": [
        {
          "output_type": "stream",
          "text": [
            "\n",
            "Output stemming:\n",
            "----------------\n",
            " sejak bulan akhir harga bawang putih bombay sempat lonjak tinggi akhir turun stabil ratarata rp per kg berkah harga murah nikmat masyarakat usik dengan mulai naik harga bawang putih pasar perhati tani syaiful bahari jelas masalah naik harga komoditi kait dengan impor bawang putih bombay gula lama lebih banyak sebab bijak restriksi batas yang laku perintah sendiri kasus bawang putih bombay lanjut syaiful relaksasi laku bukti harga turun drastis bombay rp per kilo gram jadi rp rp per kilo gram dua komoditi sumbang deflasi\n"
          ],
          "name": "stdout"
        }
      ]
    },
    {
      "cell_type": "code",
      "metadata": {
        "colab": {
          "base_uri": "https://localhost:8080/"
        },
        "id": "PSTQKw0M0xO7",
        "outputId": "88279b8e-7d89-490d-d20a-7cb7b03c01d4"
      },
      "source": [
        "#Tokenizing dengan NLTK\n",
        "tokens = word_tokenize(text)\n",
        "print(\"\\nTokenizing:\\n----------------\\n\", tokens)\n",
        "tf = FreqDist(tokens)\n",
        "print(\"\\nTerm Frequency:\\n----------------\\n\", tf.most_common())\n",
        "word, frequency=tf.most_common()[0]\n",
        "print(\"\\nKeyword yang paling banyak muncul:\\n----------------\\n\", word, \n",
        "\"=\", frequency , \"\\n\")\n",
        "print(\"\\nKeseluruhan keywords:\\n----------------\\n\")\n",
        "for word, frequency in tf.most_common():\n",
        "  print(word, \":\", frequency)"
      ],
      "execution_count": 10,
      "outputs": [
        {
          "output_type": "stream",
          "text": [
            "\n",
            "Tokenizing:\n",
            "----------------\n",
            " ['sejak', 'bulan', 'akhir', 'harga', 'bawang', 'putih', 'bombay', 'sempat', 'lonjak', 'tinggi', 'akhir', 'turun', 'stabil', 'ratarata', 'rp', 'per', 'kg', 'berkah', 'harga', 'murah', 'nikmat', 'masyarakat', 'usik', 'dengan', 'mulai', 'naik', 'harga', 'bawang', 'putih', 'pasar', 'perhati', 'tani', 'syaiful', 'bahari', 'jelas', 'masalah', 'naik', 'harga', 'komoditi', 'kait', 'dengan', 'impor', 'bawang', 'putih', 'bombay', 'gula', 'lama', 'lebih', 'banyak', 'sebab', 'bijak', 'restriksi', 'batas', 'yang', 'laku', 'perintah', 'sendiri', 'kasus', 'bawang', 'putih', 'bombay', 'lanjut', 'syaiful', 'relaksasi', 'laku', 'bukti', 'harga', 'turun', 'drastis', 'bombay', 'rp', 'per', 'kilo', 'gram', 'jadi', 'rp', 'rp', 'per', 'kilo', 'gram', 'dua', 'komoditi', 'sumbang', 'deflasi']\n",
            "\n",
            "Term Frequency:\n",
            "----------------\n",
            " [('harga', 5), ('bawang', 4), ('putih', 4), ('bombay', 4), ('rp', 4), ('per', 3), ('akhir', 2), ('turun', 2), ('dengan', 2), ('naik', 2), ('syaiful', 2), ('komoditi', 2), ('laku', 2), ('kilo', 2), ('gram', 2), ('sejak', 1), ('bulan', 1), ('sempat', 1), ('lonjak', 1), ('tinggi', 1), ('stabil', 1), ('ratarata', 1), ('kg', 1), ('berkah', 1), ('murah', 1), ('nikmat', 1), ('masyarakat', 1), ('usik', 1), ('mulai', 1), ('pasar', 1), ('perhati', 1), ('tani', 1), ('bahari', 1), ('jelas', 1), ('masalah', 1), ('kait', 1), ('impor', 1), ('gula', 1), ('lama', 1), ('lebih', 1), ('banyak', 1), ('sebab', 1), ('bijak', 1), ('restriksi', 1), ('batas', 1), ('yang', 1), ('perintah', 1), ('sendiri', 1), ('kasus', 1), ('lanjut', 1), ('relaksasi', 1), ('bukti', 1), ('drastis', 1), ('jadi', 1), ('dua', 1), ('sumbang', 1), ('deflasi', 1)]\n",
            "\n",
            "Keyword yang paling banyak muncul:\n",
            "----------------\n",
            " harga = 5 \n",
            "\n",
            "\n",
            "Keseluruhan keywords:\n",
            "----------------\n",
            "\n",
            "harga : 5\n",
            "bawang : 4\n",
            "putih : 4\n",
            "bombay : 4\n",
            "rp : 4\n",
            "per : 3\n",
            "akhir : 2\n",
            "turun : 2\n",
            "dengan : 2\n",
            "naik : 2\n",
            "syaiful : 2\n",
            "komoditi : 2\n",
            "laku : 2\n",
            "kilo : 2\n",
            "gram : 2\n",
            "sejak : 1\n",
            "bulan : 1\n",
            "sempat : 1\n",
            "lonjak : 1\n",
            "tinggi : 1\n",
            "stabil : 1\n",
            "ratarata : 1\n",
            "kg : 1\n",
            "berkah : 1\n",
            "murah : 1\n",
            "nikmat : 1\n",
            "masyarakat : 1\n",
            "usik : 1\n",
            "mulai : 1\n",
            "pasar : 1\n",
            "perhati : 1\n",
            "tani : 1\n",
            "bahari : 1\n",
            "jelas : 1\n",
            "masalah : 1\n",
            "kait : 1\n",
            "impor : 1\n",
            "gula : 1\n",
            "lama : 1\n",
            "lebih : 1\n",
            "banyak : 1\n",
            "sebab : 1\n",
            "bijak : 1\n",
            "restriksi : 1\n",
            "batas : 1\n",
            "yang : 1\n",
            "perintah : 1\n",
            "sendiri : 1\n",
            "kasus : 1\n",
            "lanjut : 1\n",
            "relaksasi : 1\n",
            "bukti : 1\n",
            "drastis : 1\n",
            "jadi : 1\n",
            "dua : 1\n",
            "sumbang : 1\n",
            "deflasi : 1\n"
          ],
          "name": "stdout"
        }
      ]
    },
    {
      "cell_type": "code",
      "metadata": {
        "colab": {
          "base_uri": "https://localhost:8080/",
          "height": 327
        },
        "id": "UWfa5GqW0zN1",
        "outputId": "4aced48c-e808-4015-8869-372beb12537d"
      },
      "source": [
        "#Plot\n",
        "tf.plot(cumulative=False)\n",
        "plt.show()"
      ],
      "execution_count": 11,
      "outputs": [
        {
          "output_type": "display_data",
          "data": {
            "image/png": "[encoded data removed]",
            "text/plain": [
              "<Figure size 432x288 with 1 Axes>"
            ]
          },
          "metadata": {
            "tags": [],
            "needs_background": "light"
          }
        }
      ]
    },
    {
      "cell_type": "code",
      "metadata": {
        "colab": {
          "base_uri": "https://localhost:8080/"
        },
        "id": "cityj95R048Y",
        "outputId": "1fa6e3da-3863-4816-9a00-f217f0ea7950"
      },
      "source": [
        "nltk.download('punkt')"
      ],
      "execution_count": 9,
      "outputs": [
        {
          "output_type": "stream",
          "text": [
            "[nltk_data] Downloading package punkt to /root/nltk_data...\n",
            "[nltk_data]   Unzipping tokenizers/punkt.zip.\n"
          ],
          "name": "stdout"
        },
        {
          "output_type": "execute_result",
          "data": {
            "text/plain": [
              "True"
            ]
          },
          "metadata": {
            "tags": []
          },
          "execution_count": 9
        }
      ]
    }
  ]
}