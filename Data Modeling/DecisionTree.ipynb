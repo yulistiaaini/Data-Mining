{
  "nbformat": 4,
  "nbformat_minor": 0,
  "metadata": {
    "colab": {
      "name": "DecisionTree.ipynb",
      "provenance": []
    },
    "kernelspec": {
      "name": "python3",
      "display_name": "Python 3"
    },
    "language_info": {
      "name": "python"
    }
  },
  "cells": [
    {
      "cell_type": "code",
      "metadata": {
        "id": "P1m_5pw3x0mQ"
      },
      "source": [
        "import pandas as pd\n",
        "import numpy as np\n",
        "from sklearn.model_selection import train_test_split\n",
        "from sklearn.model_selection import LeaveOneOut\n",
        "from sklearn.metrics import accuracy_score\n",
        "from sklearn import tree\n",
        "from sklearn.tree import DecisionTreeClassifier\n",
        "from sklearn.metrics import classification_report\n",
        "from sklearn.metrics import confusion_matrix\n",
        "import matplotlib.pyplot as plt"
      ],
      "execution_count": 1,
      "outputs": []
    },
    {
      "cell_type": "code",
      "metadata": {
        "id": "H6Ddw1kzyLI2"
      },
      "source": [
        "df = pd.read_excel('hepatitis1.xlsx',  na_values=\"?\" )"
      ],
      "execution_count": 2,
      "outputs": []
    },
    {
      "cell_type": "code",
      "metadata": {
        "id": "YMxKGsmZyMNp"
      },
      "source": [
        "df['Steroid'].fillna(df.groupby('CLASS')['Steroid'].transform(lambda x: pd.Series.mode(x)[0]), inplace = True)\n",
        "df['Fatique'].fillna(df.groupby('CLASS')['Fatique'].transform(lambda x: pd.Series.mode(x)[0]), inplace = True)\n",
        "df['Malaise'].fillna(df.groupby('CLASS')['Malaise'].transform(lambda x: pd.Series.mode(x)[0]), inplace = True)\n",
        "df['Anorexia'].fillna(df.groupby('CLASS')['Anorexia'].transform(lambda x: pd.Series.mode(x)[0]), inplace = True)\n",
        "df['Liver Big'].fillna(df.groupby('CLASS')['Liver Big'].transform(lambda x: pd.Series.mode(x)[0]), inplace = True)\n",
        "df['Liver Firm'].fillna(df.groupby('CLASS')['Liver Firm'].transform(lambda x: pd.Series.mode(x)[0]), inplace = True)\n",
        "df['Spleen Palpable'].fillna(df.groupby('CLASS')['Spleen Palpable'].transform(lambda x: pd.Series.mode(x)[0]), inplace = True)\n",
        "df['Speiders'].fillna(df.groupby('CLASS')['Speiders'].transform(lambda x: pd.Series.mode(x)[0]), inplace = True)\n",
        "df['Ascites'].fillna(df.groupby('CLASS')['Ascites'].transform(lambda x: pd.Series.mode(x)[0]), inplace = True)\n",
        "df['Varices'].fillna(df.groupby('CLASS')['Varices'].transform(lambda x: pd.Series.mode(x)[0]), inplace = True)"
      ],
      "execution_count": 3,
      "outputs": []
    },
    {
      "cell_type": "code",
      "metadata": {
        "id": "T0JaGEplyQnD"
      },
      "source": [
        "x = df.drop(columns=['#','CLASS'])\n",
        "\n",
        "x = x.replace(to_replace = ['yes','no'],value = ['1','0'])\n",
        "\n",
        "x[\"Bilirubin\"] = x[\"Bilirubin\"].fillna(df.groupby('CLASS')['Bilirubin'].transform('mean'))\n",
        "x[\"Alk Phosphate\"] = x[\"Alk Phosphate\"].fillna(df.groupby('CLASS')['Alk Phosphate'].transform('mean'))\n",
        "x[\"SGOT\"] = x[\"SGOT\"].fillna(df.groupby('CLASS')['SGOT'].transform('mean'))\n",
        "x[\"Albumin\"] = x[\"Albumin\"].fillna(df.groupby('CLASS')['Albumin'].transform('mean'))\n",
        "x[\"Protime\"] = x[\"Protime\"].fillna(df.groupby('CLASS')['Protime'].transform('mean'))\n",
        "\n",
        "y = df['CLASS']\n",
        "\n",
        "x2 = df.drop(columns=['#','CLASS'])\n",
        "x2 = x2.replace(to_replace = ['yes','no'],value = ['1','0'])\n",
        "y2 = df['CLASS']"
      ],
      "execution_count": 4,
      "outputs": []
    },
    {
      "cell_type": "code",
      "metadata": {
        "id": "LKaa9nSIyWFT"
      },
      "source": [
        "kolom=['Age', 'Sex', 'Steroid', 'Antivirals', 'Fatique', 'Malaise', 'Anorexia',\n",
        "       'Liver Big','Liver Firm','Spleen Palpable','Speiders', 'Ascites','Varices',\n",
        "       'Bilirubin','Alk Phosphate','SGOT','Albumin','Protime','Histology']"
      ],
      "execution_count": 5,
      "outputs": []
    },
    {
      "cell_type": "code",
      "metadata": {
        "id": "CRNgq1pTyZjE"
      },
      "source": [
        "loo = LeaveOneOut()\n",
        "\n",
        "true_y, pred_y = list(), list()\n",
        "for train_index, test_index in loo.split(x):\n",
        "    train_x, test_x = x.iloc[train_index, :], x2.iloc[test_index, :]\n",
        "    train_y, test_y = y.iloc[train_index], y2.iloc[test_index]\n",
        "\n",
        "    nan_values = test_x.isna()\n",
        "    nan_columns = nan_values.any()\n",
        "    columns_with_nan = test_x.columns[nan_columns].tolist()\n",
        "    train_x = train_x.drop(columns_with_nan,axis = 1)\n",
        "    test_x = test_x.dropna(axis='columns')\n",
        "\n",
        "\n",
        "    #KNN Classifier\n",
        "    classifier = tree.DecisionTreeClassifier()\n",
        "    classifier.fit(train_x, train_y)\n",
        "\n",
        "    # evaluate model\n",
        "    yhat = classifier.predict(test_x)\n",
        "    yhatt=yhat.tolist()\n",
        "    test_yy=test_y.tolist()\n",
        "    \n",
        "    # store\n",
        "    true_y.append(test_yy[0])\n",
        "    pred_y.append(yhatt[0])"
      ],
      "execution_count": 6,
      "outputs": []
    },
    {
      "cell_type": "code",
      "metadata": {
        "colab": {
          "base_uri": "https://localhost:8080/"
        },
        "id": "Vgn1JrYryh9g",
        "outputId": "3169533d-b39b-4d9a-d01d-807c46519f76"
      },
      "source": [
        "acc = accuracy_score(true_y, pred_y)\n",
        "acc = acc*100\n",
        "error = 100-acc\n",
        "print(pred_y)\n",
        "print('Accuracy: %.3f' % acc)\n",
        "print('Accuracy: %.3f' % error)\n",
        "\n",
        "print(classification_report(true_y, pred_y))"
      ],
      "execution_count": 7,
      "outputs": [
        {
          "output_type": "stream",
          "text": [
            "['Live', 'Die', 'Live', 'Live', 'Live', 'Live', 'Die', 'Live', 'Live', 'Live', 'Live', 'Live', 'Live', 'Live', 'Live', 'Live', 'Live', 'Live', 'Live', 'Live', 'Live', 'Die', 'Live', 'Live', 'Die', 'Live', 'Die', 'Die', 'Live', 'Live', 'Live', 'Live', 'Live', 'Live', 'Live', 'Live', 'Live', 'Live', 'Live', 'Die', 'Die', 'Live', 'Live', 'Live', 'Live', 'Live', 'Live', 'Live', 'Live', 'Live', 'Live', 'Live', 'Live', 'Live', 'Live', 'Live', 'Live', 'Live', 'Live', 'Die', 'Live', 'Live', 'Die', 'Die', 'Live', 'Live', 'Live', 'Live', 'Live', 'Live', 'Live', 'Live', 'Live', 'Live', 'Live', 'Live', 'Live', 'Live', 'Live', 'Live', 'Live', 'Live', 'Live', 'Live', 'Live', 'Live', 'Die', 'Live', 'Live', 'Live', 'Die', 'Die', 'Live', 'Live', 'Die', 'Live', 'Live', 'Die', 'Live', 'Live', 'Die', 'Live', 'Live', 'Die', 'Die', 'Live', 'Die', 'Die', 'Live', 'Die', 'Die', 'Live', 'Live', 'Die', 'Live', 'Die', 'Live', 'Live', 'Die', 'Live', 'Live', 'Live', 'Live', 'Live', 'Live', 'Live', 'Live', 'Die', 'Live', 'Die', 'Live', 'Die', 'Live', 'Live', 'Live', 'Die', 'Live', 'Die', 'Die', 'Live', 'Live', 'Die', 'Live', 'Die', 'Die', 'Live', 'Live', 'Die', 'Live', 'Live', 'Live', 'Live', 'Live', 'Die', 'Die']\n",
            "Accuracy: 78.065\n",
            "Accuracy: 21.935\n",
            "              precision    recall  f1-score   support\n",
            "\n",
            "         Die       0.47      0.56      0.51        32\n",
            "        Live       0.88      0.84      0.86       123\n",
            "\n",
            "    accuracy                           0.78       155\n",
            "   macro avg       0.68      0.70      0.69       155\n",
            "weighted avg       0.80      0.78      0.79       155\n",
            "\n"
          ],
          "name": "stdout"
        }
      ]
    },
    {
      "cell_type": "code",
      "metadata": {
        "colab": {
          "base_uri": "https://localhost:8080/",
          "height": 247
        },
        "id": "wp4xn3P3yi8h",
        "outputId": "11c06eb2-0341-43c2-a024-d5227398a8e6"
      },
      "source": [
        "_ =tree.plot_tree(classifier,feature_names=kolom,\n",
        "                  filled=True)\n",
        "plt.show()"
      ],
      "execution_count": 8,
      "outputs": [
        {
          "output_type": "display_data",
          "data": {
            "image/png": "[encoded data removed]",
            "text/plain": [
              "<Figure size 432x288 with 1 Axes>"
            ]
          },
          "metadata": {
            "tags": [],
            "needs_background": "light"
          }
        }
      ]
    }
  ]
}