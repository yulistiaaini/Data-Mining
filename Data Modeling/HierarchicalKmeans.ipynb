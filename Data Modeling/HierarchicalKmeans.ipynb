{
  "nbformat": 4,
  "nbformat_minor": 0,
  "metadata": {
    "colab": {
      "name": "HierarchicalKmeans.ipynb",
      "provenance": []
    },
    "kernelspec": {
      "name": "python3",
      "display_name": "Python 3"
    },
    "language_info": {
      "name": "python"
    }
  },
  "cells": [
    {
      "cell_type": "code",
      "metadata": {
        "id": "TaX6DatVy9cM"
      },
      "source": [
        "import pandas as pd\n",
        "import numpy as np\n",
        "import matplotlib.pyplot as plt\n",
        "from sklearn.model_selection import train_test_split\n",
        "from sklearn.metrics import accuracy_score\n",
        "from sklearn.metrics import classification_report\n",
        "from sklearn.metrics import confusion_matrix\n",
        "from sklearn.preprocessing import MinMaxScaler\n",
        "from sklearn.preprocessing import StandardScaler\n",
        "from sklearn.cluster import KMeans\n",
        "import scipy.cluster.hierarchy as sch"
      ],
      "execution_count": 1,
      "outputs": []
    },
    {
      "cell_type": "code",
      "metadata": {
        "id": "1AVCZJ7BzE1-"
      },
      "source": [
        "df = pd.read_excel('hepatitis1.xlsx',  na_values=\"?\" )\n",
        "df = df.replace(to_replace = ['yes','no'],value = ['1','0'])"
      ],
      "execution_count": 2,
      "outputs": []
    },
    {
      "cell_type": "code",
      "metadata": {
        "id": "Cr2wwuEZzJRd"
      },
      "source": [
        "#Categorical\n",
        "df['Steroid'].fillna(df.groupby('CLASS')['Steroid'].transform(lambda x: pd.Series.mode(x)[0]), inplace = True)\n",
        "df['Fatique'].fillna(df.groupby('CLASS')['Fatique'].transform(lambda x: pd.Series.mode(x)[0]), inplace = True)\n",
        "df['Malaise'].fillna(df.groupby('CLASS')['Malaise'].transform(lambda x: pd.Series.mode(x)[0]), inplace = True)\n",
        "df['Anorexia'].fillna(df.groupby('CLASS')['Anorexia'].transform(lambda x: pd.Series.mode(x)[0]), inplace = True)\n",
        "df['Liver Big'].fillna(df.groupby('CLASS')['Liver Big'].transform(lambda x: pd.Series.mode(x)[0]), inplace = True)\n",
        "df['Liver Firm'].fillna(df.groupby('CLASS')['Liver Firm'].transform(lambda x: pd.Series.mode(x)[0]), inplace = True)\n",
        "df['Spleen Palpable'].fillna(df.groupby('CLASS')['Spleen Palpable'].transform(lambda x: pd.Series.mode(x)[0]), inplace = True)\n",
        "df['Speiders'].fillna(df.groupby('CLASS')['Speiders'].transform(lambda x: pd.Series.mode(x)[0]), inplace = True)\n",
        "df['Ascites'].fillna(df.groupby('CLASS')['Ascites'].transform(lambda x: pd.Series.mode(x)[0]), inplace = True)\n",
        "df['Varices'].fillna(df.groupby('CLASS')['Varices'].transform(lambda x: pd.Series.mode(x)[0]), inplace = True)\n",
        "\n",
        "#Numeric\n",
        "df[\"Bilirubin\"] = df[\"Bilirubin\"].fillna(df.groupby('CLASS')['Bilirubin'].transform('mean'))\n",
        "df[\"Alk Phosphate\"] = df[\"Alk Phosphate\"].fillna(df.groupby('CLASS')['Alk Phosphate'].transform('mean'))\n",
        "df[\"SGOT\"] = df[\"SGOT\"].fillna(df.groupby('CLASS')['SGOT'].transform('mean'))\n",
        "df[\"Albumin\"] = df[\"Albumin\"].fillna(df.groupby('CLASS')['Albumin'].transform('mean'))\n",
        "df[\"Protime\"] = df[\"Protime\"].fillna(df.groupby('CLASS')['Protime'].transform('mean'))\n"
      ],
      "execution_count": 3,
      "outputs": []
    },
    {
      "cell_type": "code",
      "metadata": {
        "id": "zuyqANYFzLV8"
      },
      "source": [
        "#Drop Number & Class\n",
        "x = df.drop(columns=['#','CLASS'])\n",
        "\n",
        "scaler = StandardScaler()\n",
        "#scaler = MinMaxScaler()\n",
        "x[x.columns] = scaler.fit_transform(x[x.columns])"
      ],
      "execution_count": 5,
      "outputs": []
    },
    {
      "cell_type": "code",
      "metadata": {
        "colab": {
          "base_uri": "https://localhost:8080/"
        },
        "id": "ASijazdtzNw5",
        "outputId": "630f31c5-6060-4905-e82f-42d7a4d2d218"
      },
      "source": [
        "#Clustering using K-means\n",
        "kmeans = KMeans(n_clusters=2)\n",
        "centroid_collect=[]\n",
        "for i in range(0,10):\n",
        "    kmeans.fit(x)\n",
        "    centroids  = kmeans.cluster_centers_\n",
        "    centroid_collect.append(centroids)\n",
        "\n",
        "collect=np.array(centroid_collect)\n",
        "\n",
        "print(collect)\n",
        "print(collect.shape)\n",
        "\n",
        "feature1=collect[:,0,:]\n",
        "feature2=collect[:,1,:]\n",
        "\n",
        "mean1=np.mean(feature1, axis=0)\n",
        "mean2=np.mean(feature2, axis=0)\n",
        "print(mean1)\n",
        "print(mean2)\n"
      ],
      "execution_count": 6,
      "outputs": [
        {
          "output_type": "stream",
          "text": [
            "[[[ 0.28627823  0.13025759 -0.23368433  0.27993653 -0.69372118\n",
            "   -0.72963127 -0.46053532 -0.1440881  -0.37843782 -0.45927933\n",
            "   -0.91573593 -0.68044853 -0.58506348  0.62754839  0.58363409\n",
            "    0.36298633 -0.81198576 -0.63486821  0.59958844]\n",
            "  [-0.16193516 -0.07368106  0.13218507 -0.15834794  0.39240794\n",
            "    0.41272072  0.26050483  0.08150438  0.21406584  0.25979437\n",
            "    0.51799204  0.38490018  0.330945   -0.35497687 -0.33013646\n",
            "   -0.2053256   0.45930508  0.35911737 -0.33916114]]\n",
            "\n",
            " [[ 0.28627823  0.13025759 -0.23368433  0.27993653 -0.69372118\n",
            "   -0.72963127 -0.46053532 -0.1440881  -0.37843782 -0.45927933\n",
            "   -0.91573593 -0.68044853 -0.58506348  0.62754839  0.58363409\n",
            "    0.36298633 -0.81198576 -0.63486821  0.59958844]\n",
            "  [-0.16193516 -0.07368106  0.13218507 -0.15834794  0.39240794\n",
            "    0.41272072  0.26050483  0.08150438  0.21406584  0.25979437\n",
            "    0.51799204  0.38490018  0.330945   -0.35497687 -0.33013646\n",
            "   -0.2053256   0.45930508  0.35911737 -0.33916114]]\n",
            "\n",
            " [[-0.18053288 -0.07097091  0.14393743 -0.16433134  0.40387333\n",
            "    0.42959913  0.25795833  0.07786127  0.2081408   0.25744637\n",
            "    0.51602736  0.38490018  0.33062328 -0.35487841 -0.33717753\n",
            "   -0.20440964  0.47464615  0.37303882 -0.33336191]\n",
            "  [ 0.31038987  0.12202016 -0.24747137  0.28253459 -0.6943787\n",
            "   -0.73860903 -0.44350731 -0.13386675 -0.35785611 -0.44262709\n",
            "   -0.88720493 -0.6617582  -0.56844003  0.61014183  0.57970873\n",
            "    0.35144113 -0.8160583  -0.64136499  0.57314856]]\n",
            "\n",
            " [[-0.18053288 -0.07097091  0.14393743 -0.16433134  0.40387333\n",
            "    0.42959913  0.25795833  0.07786127  0.2081408   0.25744637\n",
            "    0.51602736  0.38490018  0.33062328 -0.35487841 -0.33717753\n",
            "   -0.20440964  0.47464615  0.37303882 -0.33336191]\n",
            "  [ 0.31038987  0.12202016 -0.24747137  0.28253459 -0.6943787\n",
            "   -0.73860903 -0.44350731 -0.13386675 -0.35785611 -0.44262709\n",
            "   -0.88720493 -0.6617582  -0.56844003  0.61014183  0.57970873\n",
            "    0.35144113 -0.8160583  -0.64136499  0.57314856]]\n",
            "\n",
            " [[-0.16193516 -0.07368106  0.13218507 -0.15834794  0.39240794\n",
            "    0.41272072  0.26050483  0.08150438  0.21406584  0.25979437\n",
            "    0.51799204  0.38490018  0.330945   -0.35497687 -0.33013646\n",
            "   -0.2053256   0.45930508  0.35911737 -0.33916114]\n",
            "  [ 0.28627823  0.13025759 -0.23368433  0.27993653 -0.69372118\n",
            "   -0.72963127 -0.46053532 -0.1440881  -0.37843782 -0.45927933\n",
            "   -0.91573593 -0.68044853 -0.58506348  0.62754839  0.58363409\n",
            "    0.36298633 -0.81198576 -0.63486821  0.59958844]]\n",
            "\n",
            " [[ 0.31038987  0.12202016 -0.24747137  0.28253459 -0.6943787\n",
            "   -0.73860903 -0.44350731 -0.13386675 -0.35785611 -0.44262709\n",
            "   -0.88720493 -0.6617582  -0.56844003  0.61014183  0.57970873\n",
            "    0.35144113 -0.8160583  -0.64136499  0.57314856]\n",
            "  [-0.18053288 -0.07097091  0.14393743 -0.16433134  0.40387333\n",
            "    0.42959913  0.25795833  0.07786127  0.2081408   0.25744637\n",
            "    0.51602736  0.38490018  0.33062328 -0.35487841 -0.33717753\n",
            "   -0.20440964  0.47464615  0.37303882 -0.33336191]]\n",
            "\n",
            " [[ 0.32334613  0.10316913 -0.21170219  0.37486557 -0.69083819\n",
            "   -0.69026724 -0.44017315 -0.13661865 -0.35023692 -0.53229296\n",
            "   -0.87791576 -0.76239843 -0.65795092  0.72645479  0.65281499\n",
            "    0.40750313 -0.8827575  -0.73474129  0.59958844]\n",
            "  [-0.1632427  -0.05208539  0.10687877 -0.18925252  0.34877268\n",
            "    0.34848443  0.22222334  0.06897252  0.17681864  0.26873043\n",
            "    0.44321961  0.38490018  0.3321694  -0.36675388 -0.3295765\n",
            "   -0.20572974  0.44566398  0.37093735 -0.30270485]]\n",
            "\n",
            " [[-0.16193516 -0.07368106  0.13218507 -0.15834794  0.39240794\n",
            "    0.41272072  0.26050483  0.08150438  0.21406584  0.25979437\n",
            "    0.51799204  0.38490018  0.330945   -0.35497687 -0.33013646\n",
            "   -0.2053256   0.45930508  0.35911737 -0.33916114]\n",
            "  [ 0.28627823  0.13025759 -0.23368433  0.27993653 -0.69372118\n",
            "   -0.72963127 -0.46053532 -0.1440881  -0.37843782 -0.45927933\n",
            "   -0.91573593 -0.68044853 -0.58506348  0.62754839  0.58363409\n",
            "    0.36298633 -0.81198576 -0.63486821  0.59958844]]\n",
            "\n",
            " [[-0.16193516 -0.07368106  0.13218507 -0.15834794  0.39240794\n",
            "    0.41272072  0.26050483  0.08150438  0.21406584  0.25979437\n",
            "    0.51799204  0.38490018  0.330945   -0.35497687 -0.33013646\n",
            "   -0.2053256   0.45930508  0.35911737 -0.33916114]\n",
            "  [ 0.28627823  0.13025759 -0.23368433  0.27993653 -0.69372118\n",
            "   -0.72963127 -0.46053532 -0.1440881  -0.37843782 -0.45927933\n",
            "   -0.91573593 -0.68044853 -0.58506348  0.62754839  0.58363409\n",
            "    0.36298633 -0.81198576 -0.63486821  0.59958844]]\n",
            "\n",
            " [[-0.18053288 -0.07097091  0.14393743 -0.16433134  0.40387333\n",
            "    0.42959913  0.25795833  0.07786127  0.2081408   0.25744637\n",
            "    0.51602736  0.38490018  0.33062328 -0.35487841 -0.33717753\n",
            "   -0.20440964  0.47464615  0.37303882 -0.33336191]\n",
            "  [ 0.31038987  0.12202016 -0.24747137  0.28253459 -0.6943787\n",
            "   -0.73860903 -0.44350731 -0.13386675 -0.35785611 -0.44262709\n",
            "   -0.88720493 -0.6617582  -0.56844003  0.61014183  0.57970873\n",
            "    0.35144113 -0.8160583  -0.64136499  0.57314856]]]\n",
            "(10, 2, 19)\n",
            "[ 0.01788883  0.00517486 -0.00981747  0.02492354 -0.03838155 -0.03611793\n",
            " -0.02493616 -0.00805646 -0.01983488 -0.03417565 -0.04945344 -0.04756526\n",
            " -0.04118131  0.04621276  0.039785    0.02557112 -0.05209336 -0.04493741\n",
            "  0.03543447]\n",
            "[ 0.11223584  0.04864148 -0.09282807  0.10171336 -0.26268378 -0.28011959\n",
            " -0.17109366 -0.0524022  -0.13957907 -0.16599537 -0.34135915 -0.24870195\n",
            " -0.21358278  0.22814846  0.21630015  0.13224918 -0.30452119 -0.23664887\n",
            "  0.2203822 ]\n"
          ],
          "name": "stdout"
        }
      ]
    },
    {
      "cell_type": "code",
      "metadata": {
        "colab": {
          "base_uri": "https://localhost:8080/"
        },
        "id": "YO2xWZkpzTEH",
        "outputId": "2ff747bd-bddc-4c45-b003-af9c8986b9a2"
      },
      "source": [
        "newcentroid = np.concatenate((mean1, mean2))\n",
        "newcentroid=newcentroid.reshape(2,19)\n",
        "print(newcentroid)\n",
        "\n",
        "kmeans.fit(x , newcentroid)\n",
        "centroids2  = kmeans.cluster_centers_\n",
        "print(centroids2)\n",
        "clusters=kmeans.predict(x)\n"
      ],
      "execution_count": 7,
      "outputs": [
        {
          "output_type": "stream",
          "text": [
            "[[ 0.01788883  0.00517486 -0.00981747  0.02492354 -0.03838155 -0.03611793\n",
            "  -0.02493616 -0.00805646 -0.01983488 -0.03417565 -0.04945344 -0.04756526\n",
            "  -0.04118131  0.04621276  0.039785    0.02557112 -0.05209336 -0.04493741\n",
            "   0.03543447]\n",
            " [ 0.11223584  0.04864148 -0.09282807  0.10171336 -0.26268378 -0.28011959\n",
            "  -0.17109366 -0.0524022  -0.13957907 -0.16599537 -0.34135915 -0.24870195\n",
            "  -0.21358278  0.22814846  0.21630015  0.13224918 -0.30452119 -0.23664887\n",
            "   0.2203822 ]]\n",
            "[[ 0.28627823  0.13025759 -0.23368433  0.27993653 -0.69372118 -0.72963127\n",
            "  -0.46053532 -0.1440881  -0.37843782 -0.45927933 -0.91573593 -0.68044853\n",
            "  -0.58506348  0.62754839  0.58363409  0.36298633 -0.81198576 -0.63486821\n",
            "   0.59958844]\n",
            " [-0.16193516 -0.07368106  0.13218507 -0.15834794  0.39240794  0.41272072\n",
            "   0.26050483  0.08150438  0.21406584  0.25979437  0.51799204  0.38490018\n",
            "   0.330945   -0.35497687 -0.33013646 -0.2053256   0.45930508  0.35911737\n",
            "  -0.33916114]]\n"
          ],
          "name": "stdout"
        }
      ]
    },
    {
      "cell_type": "code",
      "metadata": {
        "colab": {
          "base_uri": "https://localhost:8080/"
        },
        "id": "3Qd7FdXgzWAZ",
        "outputId": "b24cfe4f-883c-4891-a978-bfec528f7a30"
      },
      "source": [
        "#Class\n",
        "y = df['CLASS'].replace(to_replace = ['Live','Die'],value = ['0','1'])\n",
        "true_y = y.to_numpy().astype(np.int)\n",
        "\n",
        "#Cluster analysis\n",
        "print(\"Actual Class\")\n",
        "print(clusters)\n",
        "print(\"Predicted Class\")\n",
        "print(true_y)\n",
        "print (\"Accuracy score:\" , (accuracy_score(clusters,true_y))*100,\"%\")\n",
        "print (\"Error ratio:\" , (1-accuracy_score(clusters,true_y))*100,\"%\")\n",
        "print(classification_report(clusters,true_y))"
      ],
      "execution_count": 8,
      "outputs": [
        {
          "output_type": "stream",
          "text": [
            "Actual Class\n",
            "[1 1 1 1 1 1 0 1 1 1 1 1 1 1 1 0 1 1 1 1 1 0 1 1 1 1 0 0 1 1 0 1 1 1 1 1 1\n",
            " 0 1 0 1 1 1 1 1 1 1 0 1 1 1 1 1 1 1 1 1 1 1 1 1 1 0 1 1 1 1 0 1 1 1 0 1 1\n",
            " 1 1 0 1 1 1 1 1 1 0 0 1 0 0 0 1 0 0 1 1 0 1 0 0 1 0 0 1 0 0 0 1 0 0 1 0 1\n",
            " 0 1 1 1 1 1 1 0 1 0 0 1 1 1 0 0 0 0 0 1 0 0 1 1 0 1 0 0 1 0 0 0 0 0 1 0 0\n",
            " 1 1 0 1 0 0 0]\n",
            "Predicted Class\n",
            "[0 0 0 0 0 0 1 0 0 0 0 0 0 0 0 0 0 0 0 0 0 0 0 0 0 0 0 0 0 0 1 1 0 0 0 1 0\n",
            " 0 0 0 0 0 0 0 0 0 0 0 0 0 0 0 0 0 0 0 0 0 0 0 0 0 0 0 0 0 0 1 0 0 0 1 0 0\n",
            " 0 0 1 0 0 0 0 0 0 0 0 0 1 1 1 0 0 1 0 0 1 0 0 0 1 0 1 0 0 0 1 0 1 0 0 1 0\n",
            " 1 0 0 0 0 0 0 1 0 1 0 0 0 0 0 0 1 0 1 0 1 0 0 1 0 0 0 1 0 0 1 0 1 1 0 1 1\n",
            " 0 0 1 0 0 0 1]\n",
            "Accuracy score: 20.64516129032258 %\n",
            "Error ratio: 79.35483870967742 %\n",
            "              precision    recall  f1-score   support\n",
            "\n",
            "           0       0.23      0.50      0.31        56\n",
            "           1       0.12      0.04      0.06        99\n",
            "\n",
            "    accuracy                           0.21       155\n",
            "   macro avg       0.18      0.27      0.19       155\n",
            "weighted avg       0.16      0.21      0.15       155\n",
            "\n"
          ],
          "name": "stdout"
        }
      ]
    }
  ]
}