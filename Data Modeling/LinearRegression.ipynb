{
  "nbformat": 4,
  "nbformat_minor": 0,
  "metadata": {
    "colab": {
      "name": "LinearRegression.ipynb",
      "provenance": []
    },
    "kernelspec": {
      "name": "python3",
      "display_name": "Python 3"
    },
    "language_info": {
      "name": "python"
    }
  },
  "cells": [
    {
      "cell_type": "code",
      "metadata": {
        "id": "SKYmMmJy1BPO"
      },
      "source": [
        "import pandas as pd\n",
        "from itertools import groupby\n",
        "import matplotlib.pyplot as plt\n",
        "import sklearn.metrics as metrics\n",
        "from sklearn.linear_model import LinearRegression"
      ],
      "execution_count": 1,
      "outputs": []
    },
    {
      "cell_type": "code",
      "metadata": {
        "colab": {
          "base_uri": "https://localhost:8080/"
        },
        "id": "uSu6_i3S1O1w",
        "outputId": "5d94823e-b7e4-45e5-8fb5-fc7706db9c50"
      },
      "source": [
        "df = pd.read_csv('transaction.csv')\n",
        "df['InvoiceDate'] = pd.to_datetime(df['InvoiceDate'], format='%m/%d/%Y %H:%M')\n",
        "print(df)\n"
      ],
      "execution_count": 3,
      "outputs": [
        {
          "output_type": "stream",
          "text": [
            "       InvoiceNo  StockCode  ...  CustomerID               Country\n",
            "0         537626      22725  ...       12347               Iceland\n",
            "1         537626      22729  ...       12347               Iceland\n",
            "2         537626      22195  ...       12347               Iceland\n",
            "3         542237      22725  ...       12347               Iceland\n",
            "4         542237      22729  ...       12347               Iceland\n",
            "...          ...        ...  ...         ...                   ...\n",
            "10541     543911      21700  ...       17829  United Arab Emirates\n",
            "10542     543911      22111  ...       17829  United Arab Emirates\n",
            "10543     543911      22112  ...       17829  United Arab Emirates\n",
            "10544     564428      23296  ...       17844                Canada\n",
            "10545     564428      23294  ...       17844                Canada\n",
            "\n",
            "[10546 rows x 6 columns]\n"
          ],
          "name": "stdout"
        }
      ]
    },
    {
      "cell_type": "code",
      "metadata": {
        "colab": {
          "base_uri": "https://localhost:8080/"
        },
        "id": "b324zZQi1VyT",
        "outputId": "c244c660-7a36-4e4c-ecb7-fed950265fa4"
      },
      "source": [
        "german = df[df.Country == 'Germany']\n",
        "print(german)\n",
        "year = german['InvoiceDate'].dt.year == 2011\n",
        "german.loc[year]\n",
        "print(german)"
      ],
      "execution_count": 4,
      "outputs": [
        {
          "output_type": "stream",
          "text": [
            "      InvoiceNo  StockCode  Qty         InvoiceDate  CustomerID  Country\n",
            "1185     554985      21746  628 2011-05-29 12:26:00       12426  Germany\n",
            "1186     554985      21770  981 2011-05-29 12:26:00       12426  Germany\n",
            "1187     554985      22329  212 2011-05-29 12:26:00       12426  Germany\n",
            "1188     554985      22976  910 2011-05-29 12:26:00       12426  Germany\n",
            "1189     554985      22845  668 2011-05-29 12:26:00       12426  Germany\n",
            "...         ...        ...  ...                 ...         ...      ...\n",
            "8339     565430      22725  562 2011-09-04 13:07:00       14335  Germany\n",
            "8340     565430      22729  692 2011-09-04 13:07:00       14335  Germany\n",
            "8341     565430      22302  400 2011-09-04 13:07:00       14335  Germany\n",
            "8342     578273      22725  769 2011-11-23 13:41:00       14335  Germany\n",
            "8343     578273      23309  842 2011-11-23 13:41:00       14335  Germany\n",
            "\n",
            "[2269 rows x 6 columns]\n",
            "      InvoiceNo  StockCode  Qty         InvoiceDate  CustomerID  Country\n",
            "1185     554985      21746  628 2011-05-29 12:26:00       12426  Germany\n",
            "1186     554985      21770  981 2011-05-29 12:26:00       12426  Germany\n",
            "1187     554985      22329  212 2011-05-29 12:26:00       12426  Germany\n",
            "1188     554985      22976  910 2011-05-29 12:26:00       12426  Germany\n",
            "1189     554985      22845  668 2011-05-29 12:26:00       12426  Germany\n",
            "...         ...        ...  ...                 ...         ...      ...\n",
            "8339     565430      22725  562 2011-09-04 13:07:00       14335  Germany\n",
            "8340     565430      22729  692 2011-09-04 13:07:00       14335  Germany\n",
            "8341     565430      22302  400 2011-09-04 13:07:00       14335  Germany\n",
            "8342     578273      22725  769 2011-11-23 13:41:00       14335  Germany\n",
            "8343     578273      23309  842 2011-11-23 13:41:00       14335  Germany\n",
            "\n",
            "[2269 rows x 6 columns]\n"
          ],
          "name": "stdout"
        }
      ]
    },
    {
      "cell_type": "code",
      "metadata": {
        "colab": {
          "base_uri": "https://localhost:8080/"
        },
        "id": "Sde-2Y351YNe",
        "outputId": "ed3f499b-b6f4-4236-e777-146b59260556"
      },
      "source": [
        "TotalQty=german.groupby(german['InvoiceDate'].dt.month).sum()\n",
        "Total = TotalQty['Qty']\n",
        "print(Total)"
      ],
      "execution_count": 5,
      "outputs": [
        {
          "output_type": "stream",
          "text": [
            "InvoiceDate\n",
            "1     101266\n",
            "2      37800\n",
            "3      72084\n",
            "4      60993\n",
            "5     103749\n",
            "6      79711\n",
            "7      96423\n",
            "8     120908\n",
            "9     104487\n",
            "10    159490\n",
            "11    143409\n",
            "12     95832\n",
            "Name: Qty, dtype: int64\n"
          ],
          "name": "stdout"
        }
      ]
    },
    {
      "cell_type": "code",
      "metadata": {
        "colab": {
          "base_uri": "https://localhost:8080/"
        },
        "id": "ZE0tMCPX1ZyD",
        "outputId": "e7a384f2-4043-4542-86c6-fbab916e21d7"
      },
      "source": [
        "d = {'col1': [1, 2, 3, 4, 5 , 6, 7, 8 , 9 ,10, 11, 12]}\n",
        "month = pd.DataFrame(data=d)\n",
        "\n",
        "lin_reg = LinearRegression()\n",
        "lin_reg.fit(month, Total)\n",
        "\n",
        "a = lin_reg.intercept_\n",
        "b = lin_reg.coef_\n",
        "\n",
        "print(\"Intercept: \", a)\n",
        "print(\"Slope (Regression coefficient) \", b)"
      ],
      "execution_count": 6,
      "outputs": [
        {
          "output_type": "stream",
          "text": [
            "Intercept:  57371.575757575774\n",
            "Slope (Regression coefficient)  [6252.47552448]\n"
          ],
          "name": "stdout"
        }
      ]
    },
    {
      "cell_type": "code",
      "metadata": {
        "colab": {
          "base_uri": "https://localhost:8080/"
        },
        "id": "x-Q6AkYX1dQg",
        "outputId": "696f9672-9579-43bf-a99c-718460b0b418"
      },
      "source": [
        "x=[1, 2, 3, 4, 5 , 6, 7, 8 , 9 ,10, 11, 12, 13]\n",
        "\n",
        "y = a + b*x\n",
        "\n",
        "print(y)"
      ],
      "execution_count": 7,
      "outputs": [
        {
          "output_type": "stream",
          "text": [
            "[ 63624.05128205  69876.52680653  76129.002331    82381.47785548\n",
            "  88633.95337995  94886.42890443 101138.9044289  107391.37995338\n",
            " 113643.85547786 119896.33100233 126148.80652681 132401.28205128\n",
            " 138653.75757576]\n"
          ],
          "name": "stdout"
        }
      ]
    },
    {
      "cell_type": "code",
      "metadata": {
        "colab": {
          "base_uri": "https://localhost:8080/"
        },
        "id": "mSh5fMWf1gDR",
        "outputId": "529dd8af-96c9-44c0-806a-5fa27395b89c"
      },
      "source": [
        "yb=y[3:12]\n",
        "\n",
        "Total_list = Total.values.tolist()\n",
        "Totalbaru = Total_list[3:12]\n",
        "\n",
        "print(\"Data Aktual 9 bulan terakhir\")\n",
        "print(yb)\n",
        "print(\"Data Prediksi 9 bulan terakhir\")\n",
        "print(Totalbaru)"
      ],
      "execution_count": 8,
      "outputs": [
        {
          "output_type": "stream",
          "text": [
            "Data Aktual 9 bulan terakhir\n",
            "[ 82381.47785548  88633.95337995  94886.42890443 101138.9044289\n",
            " 107391.37995338 113643.85547786 119896.33100233 126148.80652681\n",
            " 132401.28205128]\n",
            "Data Prediksi 9 bulan terakhir\n",
            "[60993, 103749, 79711, 96423, 120908, 104487, 159490, 143409, 95832]\n"
          ],
          "name": "stdout"
        }
      ]
    },
    {
      "cell_type": "code",
      "metadata": {
        "colab": {
          "base_uri": "https://localhost:8080/"
        },
        "id": "0AOIiUEs1iRs",
        "outputId": "1b55bbbc-e34a-404f-da62-6d1e2f7a8e60"
      },
      "source": [
        "mae = metrics.mean_absolute_error(yb, Totalbaru)\n",
        "mse = metrics.mean_squared_error(yb, Totalbaru)\n",
        "mape = metrics.mean_absolute_error(yb, Totalbaru)*100\n",
        "\n",
        "print(\"MAE  : \",mae)\n",
        "print(\"MSE  : \",mse)\n",
        "print(\"MAPE : \",mape)"
      ],
      "execution_count": 9,
      "outputs": [
        {
          "output_type": "stream",
          "text": [
            "MAE  :  19165.719761719767\n",
            "MSE  :  489766369.9131863\n",
            "MAPE :  1916571.9761719767\n"
          ],
          "name": "stdout"
        }
      ]
    },
    {
      "cell_type": "code",
      "metadata": {
        "colab": {
          "base_uri": "https://localhost:8080/",
          "height": 265
        },
        "id": "g7WZTdUd1j_V",
        "outputId": "a967742b-bb96-475f-c378-27ab524638e6"
      },
      "source": [
        "plt.plot(month, Total)\n",
        "plt.plot(x, y)\n",
        "plt.show()"
      ],
      "execution_count": 10,
      "outputs": [
        {
          "output_type": "display_data",
          "data": {
            "image/png": "[encoded data removed]",
            "text/plain": [
              "<Figure size 432x288 with 1 Axes>"
            ]
          },
          "metadata": {
            "tags": [],
            "needs_background": "light"
          }
        }
      ]
    }
  ]
}