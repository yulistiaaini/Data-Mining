{
  "nbformat": 4,
  "nbformat_minor": 0,
  "metadata": {
    "colab": {
      "name": "K-Nearest Neighbor.ipynb",
      "provenance": []
    },
    "kernelspec": {
      "name": "python3",
      "display_name": "Python 3"
    },
    "language_info": {
      "name": "python"
    }
  },
  "cells": [
    {
      "cell_type": "code",
      "metadata": {
        "id": "Vya35sVcxFf9"
      },
      "source": [
        "import pandas as pd\n",
        "import numpy as np\n",
        "from sklearn.model_selection import train_test_split\n",
        "from sklearn.model_selection import LeaveOneOut\n",
        "from sklearn.metrics import accuracy_score\n",
        "from sklearn.neighbors import KNeighborsClassifier\n",
        "from sklearn.metrics import classification_report\n",
        "from sklearn.metrics import confusion_matrix\n",
        "import matplotlib.pyplot as plt"
      ],
      "execution_count": 1,
      "outputs": []
    },
    {
      "cell_type": "code",
      "metadata": {
        "id": "o3PW3tMkxcbU"
      },
      "source": [
        "df = pd.read_excel('hepatitis1.xlsx',  na_values=\"?\" )"
      ],
      "execution_count": 2,
      "outputs": []
    },
    {
      "cell_type": "code",
      "metadata": {
        "colab": {
          "base_uri": "https://localhost:8080/"
        },
        "id": "rhirHkEyxfHe",
        "outputId": "53f5c114-c960-4edc-f8d8-74a3eb20d468"
      },
      "source": [
        "x = df.drop(columns=['#','CLASS'])\n",
        "print(x.shape)"
      ],
      "execution_count": 3,
      "outputs": [
        {
          "output_type": "stream",
          "text": [
            "(155, 19)\n"
          ],
          "name": "stdout"
        }
      ]
    },
    {
      "cell_type": "code",
      "metadata": {
        "colab": {
          "base_uri": "https://localhost:8080/"
        },
        "id": "JCUYoea2xior",
        "outputId": "8e72a7db-305a-44b7-bd07-4411596b1a48"
      },
      "source": [
        "x.dropna(inplace=True)\n",
        "print(x.shape)"
      ],
      "execution_count": 4,
      "outputs": [
        {
          "output_type": "stream",
          "text": [
            "(80, 19)\n"
          ],
          "name": "stdout"
        }
      ]
    },
    {
      "cell_type": "code",
      "metadata": {
        "colab": {
          "base_uri": "https://localhost:8080/"
        },
        "id": "8sl2elJmxlmD",
        "outputId": "21c389a8-d8a3-4fae-9d7a-4d047d2bf64a"
      },
      "source": [
        "x = x.replace(to_replace = ['yes','no'],value = ['1','0'])\n",
        "print(x)"
      ],
      "execution_count": 5,
      "outputs": [
        {
          "output_type": "stream",
          "text": [
            "     Age Sex Steroid Antivirals  ...   SGOT Albumin Protime Histology\n",
            "5     34   0       1          1  ...   28.0     4.0    75.0         0\n",
            "10    39   0       0          0  ...   30.0     4.4    85.0         0\n",
            "11    32   0       1          0  ...  249.0     3.7    54.0         0\n",
            "12    41   0       1          0  ...   60.0     3.9    52.0         0\n",
            "13    30   0       1          1  ...  144.0     4.9    78.0         0\n",
            "..   ...  ..     ...        ...  ...    ...     ...     ...       ...\n",
            "139   45   0       1          0  ...   44.0     4.2    85.0         1\n",
            "143   49   0       0          1  ...   70.0     3.5    35.0         1\n",
            "145   31   0       0          1  ...  173.0     4.2    54.0         1\n",
            "153   53   1       0          1  ...   19.0     4.1    48.0         1\n",
            "154   43   0       1          1  ...   19.0     3.1    42.0         1\n",
            "\n",
            "[80 rows x 19 columns]\n"
          ],
          "name": "stdout"
        }
      ]
    },
    {
      "cell_type": "code",
      "metadata": {
        "id": "5vJvYkN5xoEZ"
      },
      "source": [
        "y = df['CLASS']\n",
        "\n",
        "x2 = df.drop(columns=['#','CLASS'])\n",
        "x2 = x2.replace(to_replace = ['yes','no'],value = ['1','0'])\n",
        "x2.dropna(inplace=True)\n",
        "y2 = df['CLASS']"
      ],
      "execution_count": 6,
      "outputs": []
    },
    {
      "cell_type": "code",
      "metadata": {
        "id": "5JlexSQxxquy"
      },
      "source": [
        "loo = LeaveOneOut()\n",
        "classifier = KNeighborsClassifier(n_neighbors=3)\n",
        "true_y, pred_y = list(), list()\n",
        "for train_index, test_index in loo.split(x):\n",
        "    train_x, test_x = x.iloc[train_index, :], x2.iloc[test_index, :]\n",
        "    train_y, test_y = y.iloc[train_index], y2.iloc[test_index]\n",
        "\n",
        "    #KNN Classifier\n",
        "    classifier.fit(train_x, train_y)\n",
        "\n",
        "    # evaluate model\n",
        "    yhat = classifier.predict(test_x)\n",
        "    yhatt=yhat.tolist()\n",
        "    test_yy=test_y.tolist()\n",
        "    \n",
        "    # store\n",
        "    true_y.append(test_yy[0])\n",
        "    pred_y.append(yhatt[0])"
      ],
      "execution_count": 7,
      "outputs": []
    },
    {
      "cell_type": "code",
      "metadata": {
        "colab": {
          "base_uri": "https://localhost:8080/"
        },
        "id": "ERZlSyrAxvlj",
        "outputId": "b4911fcf-64d2-444a-a7ad-0b81766d67a7"
      },
      "source": [
        "acc = accuracy_score(true_y, pred_y)\n",
        "acc = acc*100\n",
        "error = 100-acc\n",
        "print(pred_y)\n",
        "print('Accuracy: %.3f' % acc)\n",
        "print('Accuracy: %.3f' % error)\n",
        "\n",
        "print(classification_report(true_y, pred_y))"
      ],
      "execution_count": 8,
      "outputs": [
        {
          "output_type": "stream",
          "text": [
            "['Live', 'Live', 'Live', 'Live', 'Live', 'Die', 'Live', 'Live', 'Live', 'Live', 'Live', 'Live', 'Live', 'Live', 'Live', 'Live', 'Live', 'Live', 'Live', 'Live', 'Live', 'Live', 'Live', 'Live', 'Live', 'Live', 'Live', 'Live', 'Live', 'Live', 'Live', 'Live', 'Live', 'Live', 'Live', 'Live', 'Live', 'Live', 'Live', 'Live', 'Live', 'Live', 'Live', 'Live', 'Live', 'Live', 'Live', 'Live', 'Live', 'Live', 'Live', 'Live', 'Live', 'Live', 'Live', 'Live', 'Live', 'Live', 'Live', 'Live', 'Live', 'Live', 'Live', 'Live', 'Live', 'Live', 'Live', 'Live', 'Live', 'Live', 'Live', 'Live', 'Live', 'Live', 'Live', 'Live', 'Live', 'Live', 'Live', 'Live']\n",
            "Accuracy: 90.000\n",
            "Accuracy: 10.000\n",
            "              precision    recall  f1-score   support\n",
            "\n",
            "         Die       0.00      0.00      0.00         7\n",
            "        Live       0.91      0.99      0.95        73\n",
            "\n",
            "    accuracy                           0.90        80\n",
            "   macro avg       0.46      0.49      0.47        80\n",
            "weighted avg       0.83      0.90      0.86        80\n",
            "\n"
          ],
          "name": "stdout"
        }
      ]
    }
  ]
}