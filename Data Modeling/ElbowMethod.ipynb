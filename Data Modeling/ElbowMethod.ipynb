{
  "nbformat": 4,
  "nbformat_minor": 0,
  "metadata": {
    "colab": {
      "name": "ElbowMethod.ipynb",
      "provenance": []
    },
    "kernelspec": {
      "name": "python3",
      "display_name": "Python 3"
    },
    "language_info": {
      "name": "python"
    }
  },
  "cells": [
    {
      "cell_type": "code",
      "metadata": {
        "id": "MO9u_OwFzdUP"
      },
      "source": [
        "import pandas as pd\n",
        "import numpy as np\n",
        "import matplotlib.pyplot as plt\n",
        "from kneed import KneeLocator\n",
        "from sklearn.model_selection import train_test_split\n",
        "from sklearn.metrics import accuracy_score\n",
        "from sklearn.metrics import classification_report\n",
        "from sklearn.metrics import confusion_matrix\n",
        "from sklearn.preprocessing import MinMaxScaler\n",
        "from sklearn.preprocessing import StandardScaler\n",
        "from sklearn.cluster import KMeans\n",
        "import scipy.cluster.hierarchy as hcluster "
      ],
      "execution_count": 6,
      "outputs": []
    },
    {
      "cell_type": "code",
      "metadata": {
        "colab": {
          "base_uri": "https://localhost:8080/"
        },
        "id": "cW9May8Izrbv",
        "outputId": "34301a0a-749b-4fa4-8d19-b0389624f500"
      },
      "source": [
        "pip install kneed"
      ],
      "execution_count": 5,
      "outputs": [
        {
          "output_type": "stream",
          "text": [
            "Collecting kneed\n",
            "  Downloading https://files.pythonhosted.org/packages/c3/6b/e130913aaaad1373060e259ab222ca2330672db696b297b082c3f3089fcc/kneed-0.7.0-py2.py3-none-any.whl\n",
            "Requirement already satisfied: scipy in /usr/local/lib/python3.7/dist-packages (from kneed) (1.4.1)\n",
            "Requirement already satisfied: matplotlib in /usr/local/lib/python3.7/dist-packages (from kneed) (3.2.2)\n",
            "Requirement already satisfied: numpy>=1.14.2 in /usr/local/lib/python3.7/dist-packages (from kneed) (1.19.5)\n",
            "Requirement already satisfied: pyparsing!=2.0.4,!=2.1.2,!=2.1.6,>=2.0.1 in /usr/local/lib/python3.7/dist-packages (from matplotlib->kneed) (2.4.7)\n",
            "Requirement already satisfied: cycler>=0.10 in /usr/local/lib/python3.7/dist-packages (from matplotlib->kneed) (0.10.0)\n",
            "Requirement already satisfied: kiwisolver>=1.0.1 in /usr/local/lib/python3.7/dist-packages (from matplotlib->kneed) (1.3.1)\n",
            "Requirement already satisfied: python-dateutil>=2.1 in /usr/local/lib/python3.7/dist-packages (from matplotlib->kneed) (2.8.1)\n",
            "Requirement already satisfied: six in /usr/local/lib/python3.7/dist-packages (from cycler>=0.10->matplotlib->kneed) (1.15.0)\n",
            "Installing collected packages: kneed\n",
            "Successfully installed kneed-0.7.0\n"
          ],
          "name": "stdout"
        }
      ]
    },
    {
      "cell_type": "code",
      "metadata": {
        "id": "mRclwjm_zhc-"
      },
      "source": [
        "df = pd.read_excel('hepatitis1.xlsx',  na_values=\"?\" )\n",
        "df = df.replace(to_replace = ['yes','no'],value = ['1','0'])"
      ],
      "execution_count": 7,
      "outputs": []
    },
    {
      "cell_type": "code",
      "metadata": {
        "id": "M2iLwVo5z11e"
      },
      "source": [
        "#Categorical\n",
        "df['Steroid'].fillna(df.groupby('CLASS')['Steroid'].transform(lambda x: pd.Series.mode(x)[0]), inplace = True)\n",
        "df['Fatique'].fillna(df.groupby('CLASS')['Fatique'].transform(lambda x: pd.Series.mode(x)[0]), inplace = True)\n",
        "df['Malaise'].fillna(df.groupby('CLASS')['Malaise'].transform(lambda x: pd.Series.mode(x)[0]), inplace = True)\n",
        "df['Anorexia'].fillna(df.groupby('CLASS')['Anorexia'].transform(lambda x: pd.Series.mode(x)[0]), inplace = True)\n",
        "df['Liver Big'].fillna(df.groupby('CLASS')['Liver Big'].transform(lambda x: pd.Series.mode(x)[0]), inplace = True)\n",
        "df['Liver Firm'].fillna(df.groupby('CLASS')['Liver Firm'].transform(lambda x: pd.Series.mode(x)[0]), inplace = True)\n",
        "df['Spleen Palpable'].fillna(df.groupby('CLASS')['Spleen Palpable'].transform(lambda x: pd.Series.mode(x)[0]), inplace = True)\n",
        "df['Speiders'].fillna(df.groupby('CLASS')['Speiders'].transform(lambda x: pd.Series.mode(x)[0]), inplace = True)\n",
        "df['Ascites'].fillna(df.groupby('CLASS')['Ascites'].transform(lambda x: pd.Series.mode(x)[0]), inplace = True)\n",
        "df['Varices'].fillna(df.groupby('CLASS')['Varices'].transform(lambda x: pd.Series.mode(x)[0]), inplace = True)\n",
        "\n",
        "#Numeric\n",
        "df[\"Bilirubin\"] = df[\"Bilirubin\"].fillna(df.groupby('CLASS')['Bilirubin'].transform('mean'))\n",
        "df[\"Alk Phosphate\"] = df[\"Alk Phosphate\"].fillna(df.groupby('CLASS')['Alk Phosphate'].transform('mean'))\n",
        "df[\"SGOT\"] = df[\"SGOT\"].fillna(df.groupby('CLASS')['SGOT'].transform('mean'))\n",
        "df[\"Albumin\"] = df[\"Albumin\"].fillna(df.groupby('CLASS')['Albumin'].transform('mean'))\n",
        "df[\"Protime\"] = df[\"Protime\"].fillna(df.groupby('CLASS')['Protime'].transform('mean'))\n"
      ],
      "execution_count": 9,
      "outputs": []
    },
    {
      "cell_type": "code",
      "metadata": {
        "id": "6gA8MjKJz5TB"
      },
      "source": [
        "#Drop Number & Class\n",
        "x = df.drop(columns=['#','CLASS'])\n",
        "\n",
        "scaler = StandardScaler()\n",
        "#scaler = MinMaxScaler()\n",
        "\n",
        "x[x.columns] = scaler.fit_transform(x[x.columns])"
      ],
      "execution_count": 10,
      "outputs": []
    },
    {
      "cell_type": "code",
      "metadata": {
        "colab": {
          "base_uri": "https://localhost:8080/"
        },
        "id": "29_zOdxHz7bL",
        "outputId": "b29aa3f5-a5ec-44e4-f7d0-4f2822582919"
      },
      "source": [
        "Sum_of_squared_distances = []\n",
        "K = range(1,155)\n",
        "for k in K:\n",
        "    km = KMeans(n_clusters=k)\n",
        "    km = km.fit(x)\n",
        "    Sum_of_squared_distances.append(km.inertia_)\n",
        "    print('For n_clusters = ',k ,'The sum of squared distances is :', km.inertia_)\n",
        "\n",
        "kl = KneeLocator(range(1, 155), Sum_of_squared_distances, curve=\"convex\", direction=\"decreasing\")\n",
        "print('Optimal k is: ',kl.elbow)\n"
      ],
      "execution_count": 11,
      "outputs": [
        {
          "output_type": "stream",
          "text": [
            "For n_clusters =  1 The sum of squared distances is : 2945.0\n",
            "For n_clusters =  2 The sum of squared distances is : 2439.58865911656\n",
            "For n_clusters =  3 The sum of squared distances is : 2232.4547272253594\n",
            "For n_clusters =  4 The sum of squared distances is : 2097.2823871919695\n",
            "For n_clusters =  5 The sum of squared distances is : 1993.1230134806442\n",
            "For n_clusters =  6 The sum of squared distances is : 1919.392273910191\n",
            "For n_clusters =  7 The sum of squared distances is : 1807.607243181263\n",
            "For n_clusters =  8 The sum of squared distances is : 1776.4849897707106\n",
            "For n_clusters =  9 The sum of squared distances is : 1690.5755010055182\n",
            "For n_clusters =  10 The sum of squared distances is : 1644.2637573646227\n",
            "For n_clusters =  11 The sum of squared distances is : 1550.762808269193\n",
            "For n_clusters =  12 The sum of squared distances is : 1513.4172305041855\n",
            "For n_clusters =  13 The sum of squared distances is : 1476.0213148782627\n",
            "For n_clusters =  14 The sum of squared distances is : 1438.0764919047606\n",
            "For n_clusters =  15 The sum of squared distances is : 1399.844324437191\n",
            "For n_clusters =  16 The sum of squared distances is : 1345.7621392208914\n",
            "For n_clusters =  17 The sum of squared distances is : 1321.7509816914308\n",
            "For n_clusters =  18 The sum of squared distances is : 1300.350426106219\n",
            "For n_clusters =  19 The sum of squared distances is : 1260.9807653472592\n",
            "For n_clusters =  20 The sum of squared distances is : 1246.4091798527797\n",
            "For n_clusters =  21 The sum of squared distances is : 1196.7295099834655\n",
            "For n_clusters =  22 The sum of squared distances is : 1173.3293863818005\n",
            "For n_clusters =  23 The sum of squared distances is : 1154.9104272795496\n",
            "For n_clusters =  24 The sum of squared distances is : 1114.8150755977274\n",
            "For n_clusters =  25 The sum of squared distances is : 1101.309404415208\n",
            "For n_clusters =  26 The sum of squared distances is : 1084.3356643935595\n",
            "For n_clusters =  27 The sum of squared distances is : 1075.3666168424716\n",
            "For n_clusters =  28 The sum of squared distances is : 1028.8837052598442\n",
            "For n_clusters =  29 The sum of squared distances is : 998.2686078867914\n",
            "For n_clusters =  30 The sum of squared distances is : 993.1594754441022\n",
            "For n_clusters =  31 The sum of squared distances is : 964.2871099056192\n",
            "For n_clusters =  32 The sum of squared distances is : 950.9092102485022\n",
            "For n_clusters =  33 The sum of squared distances is : 933.4243794188071\n",
            "For n_clusters =  34 The sum of squared distances is : 896.7613162195796\n",
            "For n_clusters =  35 The sum of squared distances is : 896.8593310615788\n",
            "For n_clusters =  36 The sum of squared distances is : 879.9933736982156\n",
            "For n_clusters =  37 The sum of squared distances is : 856.4483112562455\n",
            "For n_clusters =  38 The sum of squared distances is : 840.9381600129084\n",
            "For n_clusters =  39 The sum of squared distances is : 812.2515202949226\n",
            "For n_clusters =  40 The sum of squared distances is : 791.1463899451371\n",
            "For n_clusters =  41 The sum of squared distances is : 770.6884865417591\n",
            "For n_clusters =  42 The sum of squared distances is : 766.3786606894749\n",
            "For n_clusters =  43 The sum of squared distances is : 736.5775244463834\n",
            "For n_clusters =  44 The sum of squared distances is : 720.0798291214024\n",
            "For n_clusters =  45 The sum of squared distances is : 703.6460415490575\n",
            "For n_clusters =  46 The sum of squared distances is : 682.5275009108238\n",
            "For n_clusters =  47 The sum of squared distances is : 676.6303165325227\n",
            "For n_clusters =  48 The sum of squared distances is : 666.2626127270489\n",
            "For n_clusters =  49 The sum of squared distances is : 660.1713152714507\n",
            "For n_clusters =  50 The sum of squared distances is : 645.635473206489\n",
            "For n_clusters =  51 The sum of squared distances is : 625.1859914817235\n",
            "For n_clusters =  52 The sum of squared distances is : 609.9223673547906\n",
            "For n_clusters =  53 The sum of squared distances is : 591.1464627191182\n",
            "For n_clusters =  54 The sum of squared distances is : 578.9826854492153\n",
            "For n_clusters =  55 The sum of squared distances is : 563.4612380055901\n",
            "For n_clusters =  56 The sum of squared distances is : 549.4934673765202\n",
            "For n_clusters =  57 The sum of squared distances is : 535.3129759682312\n",
            "For n_clusters =  58 The sum of squared distances is : 531.8299750020493\n",
            "For n_clusters =  59 The sum of squared distances is : 513.1731538782354\n",
            "For n_clusters =  60 The sum of squared distances is : 505.44225815590835\n",
            "For n_clusters =  61 The sum of squared distances is : 482.5137997165339\n",
            "For n_clusters =  62 The sum of squared distances is : 485.77021353263075\n",
            "For n_clusters =  63 The sum of squared distances is : 465.79983676479486\n",
            "For n_clusters =  64 The sum of squared distances is : 456.72996803482215\n",
            "For n_clusters =  65 The sum of squared distances is : 437.93759352233076\n",
            "For n_clusters =  66 The sum of squared distances is : 428.7581371417484\n",
            "For n_clusters =  67 The sum of squared distances is : 422.32789029692356\n",
            "For n_clusters =  68 The sum of squared distances is : 407.18743549778463\n",
            "For n_clusters =  69 The sum of squared distances is : 399.1555548927336\n",
            "For n_clusters =  70 The sum of squared distances is : 388.69918494600967\n",
            "For n_clusters =  71 The sum of squared distances is : 377.129247863707\n",
            "For n_clusters =  72 The sum of squared distances is : 370.9462611763487\n",
            "For n_clusters =  73 The sum of squared distances is : 361.59849967854575\n",
            "For n_clusters =  74 The sum of squared distances is : 353.2797489894306\n",
            "For n_clusters =  75 The sum of squared distances is : 331.8915801955128\n",
            "For n_clusters =  76 The sum of squared distances is : 331.88456240621025\n",
            "For n_clusters =  77 The sum of squared distances is : 318.6747077312108\n",
            "For n_clusters =  78 The sum of squared distances is : 308.5362592774052\n",
            "For n_clusters =  79 The sum of squared distances is : 298.7850696370016\n",
            "For n_clusters =  80 The sum of squared distances is : 303.84278679025306\n",
            "For n_clusters =  81 The sum of squared distances is : 285.01074687540506\n",
            "For n_clusters =  82 The sum of squared distances is : 276.4007391650516\n",
            "For n_clusters =  83 The sum of squared distances is : 267.51677571302207\n",
            "For n_clusters =  84 The sum of squared distances is : 258.55746734639257\n",
            "For n_clusters =  85 The sum of squared distances is : 255.7146712646417\n",
            "For n_clusters =  86 The sum of squared distances is : 249.633105138376\n",
            "For n_clusters =  87 The sum of squared distances is : 235.26793887245006\n",
            "For n_clusters =  88 The sum of squared distances is : 224.9013269183193\n",
            "For n_clusters =  89 The sum of squared distances is : 221.44718592855122\n",
            "For n_clusters =  90 The sum of squared distances is : 213.37792539378853\n",
            "For n_clusters =  91 The sum of squared distances is : 210.80695633739356\n",
            "For n_clusters =  92 The sum of squared distances is : 203.89203642128953\n",
            "For n_clusters =  93 The sum of squared distances is : 194.92819455207479\n",
            "For n_clusters =  94 The sum of squared distances is : 190.3881222012391\n",
            "For n_clusters =  95 The sum of squared distances is : 184.0498872715289\n",
            "For n_clusters =  96 The sum of squared distances is : 172.63985217067915\n",
            "For n_clusters =  97 The sum of squared distances is : 168.10566695321165\n",
            "For n_clusters =  98 The sum of squared distances is : 158.27586500550055\n",
            "For n_clusters =  99 The sum of squared distances is : 156.5460398547475\n",
            "For n_clusters =  100 The sum of squared distances is : 152.02436717696082\n",
            "For n_clusters =  101 The sum of squared distances is : 144.65923950341465\n",
            "For n_clusters =  102 The sum of squared distances is : 137.73819204221252\n",
            "For n_clusters =  103 The sum of squared distances is : 134.670529460919\n",
            "For n_clusters =  104 The sum of squared distances is : 129.47779645239353\n",
            "For n_clusters =  105 The sum of squared distances is : 121.86706301783602\n",
            "For n_clusters =  106 The sum of squared distances is : 116.25288349317624\n",
            "For n_clusters =  107 The sum of squared distances is : 112.8185684038622\n",
            "For n_clusters =  108 The sum of squared distances is : 106.99679886642161\n",
            "For n_clusters =  109 The sum of squared distances is : 101.21889628371937\n",
            "For n_clusters =  110 The sum of squared distances is : 97.88845639519639\n",
            "For n_clusters =  111 The sum of squared distances is : 96.77247947577696\n",
            "For n_clusters =  112 The sum of squared distances is : 92.72259467949884\n",
            "For n_clusters =  113 The sum of squared distances is : 85.07027834661102\n",
            "For n_clusters =  114 The sum of squared distances is : 83.22607755586648\n",
            "For n_clusters =  115 The sum of squared distances is : 78.31325495926026\n",
            "For n_clusters =  116 The sum of squared distances is : 71.25581545351884\n",
            "For n_clusters =  117 The sum of squared distances is : 69.08786016582428\n",
            "For n_clusters =  118 The sum of squared distances is : 66.66643184733607\n",
            "For n_clusters =  119 The sum of squared distances is : 60.333569103150516\n",
            "For n_clusters =  120 The sum of squared distances is : 58.51856517322916\n",
            "For n_clusters =  121 The sum of squared distances is : 55.61892067131844\n",
            "For n_clusters =  122 The sum of squared distances is : 51.11709687511116\n",
            "For n_clusters =  123 The sum of squared distances is : 45.90125609824571\n",
            "For n_clusters =  124 The sum of squared distances is : 44.259545936476854\n",
            "For n_clusters =  125 The sum of squared distances is : 42.02965123838092\n",
            "For n_clusters =  126 The sum of squared distances is : 38.18834248601431\n",
            "For n_clusters =  127 The sum of squared distances is : 34.88152520905349\n",
            "For n_clusters =  128 The sum of squared distances is : 32.04348509808757\n",
            "For n_clusters =  129 The sum of squared distances is : 28.742597669276513\n",
            "For n_clusters =  130 The sum of squared distances is : 27.01858866776431\n",
            "For n_clusters =  131 The sum of squared distances is : 24.674150884533468\n",
            "For n_clusters =  132 The sum of squared distances is : 22.79272386527027\n",
            "For n_clusters =  133 The sum of squared distances is : 21.240769260749936\n",
            "For n_clusters =  134 The sum of squared distances is : 18.081934536138895\n",
            "For n_clusters =  135 The sum of squared distances is : 17.36050166687813\n",
            "For n_clusters =  136 The sum of squared distances is : 14.656537546636596\n",
            "For n_clusters =  137 The sum of squared distances is : 13.454530933638305\n",
            "For n_clusters =  138 The sum of squared distances is : 11.307791932435522\n",
            "For n_clusters =  139 The sum of squared distances is : 9.97390327316541\n",
            "For n_clusters =  140 The sum of squared distances is : 8.362191601870563\n",
            "For n_clusters =  141 The sum of squared distances is : 7.0681929972818605\n",
            "For n_clusters =  142 The sum of squared distances is : 6.253580319903495\n",
            "For n_clusters =  143 The sum of squared distances is : 5.088108835258897\n",
            "For n_clusters =  144 The sum of squared distances is : 4.390898581148461\n",
            "For n_clusters =  145 The sum of squared distances is : 3.6315332098179667\n",
            "For n_clusters =  146 The sum of squared distances is : 2.8827873076656108\n",
            "For n_clusters =  147 The sum of squared distances is : 2.168928525745207\n",
            "For n_clusters =  148 The sum of squared distances is : 1.5871581306962892\n",
            "For n_clusters =  149 The sum of squared distances is : 1.2101719471477435\n",
            "For n_clusters =  150 The sum of squared distances is : 0.8451037579441516\n",
            "For n_clusters =  151 The sum of squared distances is : 0.6213326788136575\n",
            "For n_clusters =  152 The sum of squared distances is : 0.403768224402586\n",
            "For n_clusters =  153 The sum of squared distances is : 0.2633065117888776\n",
            "For n_clusters =  154 The sum of squared distances is : 0.12792175173031978\n",
            "Optimal k is:  34\n"
          ],
          "name": "stdout"
        }
      ]
    },
    {
      "cell_type": "code",
      "metadata": {
        "colab": {
          "base_uri": "https://localhost:8080/",
          "height": 295
        },
        "id": "NMxA9C7Z0EQd",
        "outputId": "5809db18-7141-4d5e-d904-fb8e0c3ace85"
      },
      "source": [
        "plt.plot(K, Sum_of_squared_distances, 'bx-')\n",
        "plt.xlabel('k')\n",
        "plt.ylabel('Sum_of_squared_distances')\n",
        "plt.title('Elbow Method For Optimal k')\n",
        "plt.show()"
      ],
      "execution_count": 12,
      "outputs": [
        {
          "output_type": "display_data",
          "data": {
            "image/png": "[encoded data removed]",
            "text/plain": [
              "<Figure size 432x288 with 1 Axes>"
            ]
          },
          "metadata": {
            "tags": [],
            "needs_background": "light"
          }
        }
      ]
    }
  ]
}